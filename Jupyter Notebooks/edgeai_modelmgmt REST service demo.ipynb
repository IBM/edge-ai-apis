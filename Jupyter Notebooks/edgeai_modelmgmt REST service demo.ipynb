{
 "cells": [
  {
   "cell_type": "markdown",
   "metadata": {},
   "source": [
    "# Model Fingerprinting \n",
    "\n",
    "Model Fingerprint is a technique for defining a fingerprint of a model, which can be used to determine if any given input belongs to a dataset of reasonable input to the model or if it is an outlier to the dataset. \n",
    "**Fingerprint is calculated with trained model.** \n",
    "## 2 methods for layered, or non-layered models \n",
    "- Layered\n",
    "The first component takes the activations of the training data for each of the layers and trains a unique autoencoder for each layer. \n",
    "The second component consists of the distribution of reconstruction errors calculated by running the activations of the training data through the autoencoder and calculating the root mean squared difference between the input activations and the outputted values\n",
    "- Non-layered\n",
    "The first component consist of an autoencoder calculated directly from the training data. \n",
    "The second component consists of the distributions of reconstruction errors calculated by running the training data through the autoencoder and calculating the root mean square difference between the input training data and the outputted values.\n"
   ]
  },
  {
   "cell_type": "markdown",
   "metadata": {},
   "source": [
    "# Installation & REST service startup\n",
    "\n",
    "To install from Artifactory, run `pip install edgeai_model_mgmt` \n",
    "\n",
    "After successful installation, run the command  `python -m  modelmgmt.apis.rest_services`\n",
    "\n",
    "A REST server should start up and report the IP Address and port number used to accept requests"
   ]
  },
  {
   "cell_type": "markdown",
   "metadata": {},
   "source": [
    "# Import libraries for calling APIs and data serialization"
   ]
  },
  {
   "cell_type": "code",
   "execution_count": null,
   "metadata": {},
   "outputs": [],
   "source": [
    "import requests\n",
    "import pickle\n",
    "import json"
   ]
  },
  {
   "cell_type": "markdown",
   "metadata": {},
   "source": [
    "# Fingerprint Service Requirements \n",
    "\n",
    "The Edge AI Model Management Fingerprinting service expects a pretrained model, and the original training dataset in order to generate a fingerprint. If a layered model is not available, you can simply provide the training dataset to generate a fingerprint from this alone. \n",
    "\n",
    "We will train a Keras MNIST Model to use for this example. \n"
   ]
  },
  {
   "cell_type": "markdown",
   "metadata": {},
   "source": [
    "# Prepare MNIST Dataset \n",
    "\n",
    " "
   ]
  },
  {
   "cell_type": "code",
   "execution_count": null,
   "metadata": {},
   "outputs": [],
   "source": [
    "from keras import utils\n",
    "from keras.datasets import mnist, fashion_mnist\n",
    "\n",
    "img_rows, img_cols = 28, 28\n",
    "(mnist_x_train, mnist_y_train), _ = mnist.load_data()\n",
    "\n",
    "x = mnist_x_train.astype('float32').reshape(mnist_x_train.shape[0], img_rows, img_cols, 1) / 255.\n",
    "y = utils.to_categorical(mnist_y_train, 10)"
   ]
  },
  {
   "cell_type": "markdown",
   "metadata": {},
   "source": [
    "# Build Model "
   ]
  },
  {
   "cell_type": "code",
   "execution_count": null,
   "metadata": {},
   "outputs": [],
   "source": [
    "from keras import models\n",
    "from keras import layers\n",
    "from keras.models import Sequential\n",
    "\n",
    "model = models.Sequential()\n",
    "model.add(layers.Conv2D(32, (5, 5), activation='relu', input_shape=(28, 28, 1), padding='same'))\n",
    "model.add(layers.MaxPool2D(2, 2))\n",
    "model.add(layers.Conv2D(64, (5, 5), activation='relu'))\n",
    "model.add(layers.MaxPool2D(2, 2))\n",
    "model.add(layers.Flatten())\n",
    "model.add(layers.Dense(512, activation='relu'))\n",
    "model.add(layers.Dropout(0.4))\n",
    "model.add(layers.Dense(10))\n",
    "model.add(layers.Activation('softmax'))\n",
    "model.compile(loss='categorical_crossentropy', optimizer='adam', metrics=['accuracy'])"
   ]
  },
  {
   "cell_type": "markdown",
   "metadata": {},
   "source": [
    "# Train Model"
   ]
  },
  {
   "cell_type": "code",
   "execution_count": null,
   "metadata": {},
   "outputs": [],
   "source": [
    "model.fit(x, y, batch_size=128, epochs=3)"
   ]
  },
  {
   "cell_type": "markdown",
   "metadata": {},
   "source": [
    "# Save newly trained model and dataset to desired path"
   ]
  },
  {
   "cell_type": "code",
   "execution_count": null,
   "metadata": {},
   "outputs": [],
   "source": [
    "import tempfile\n",
    "import os\n",
    "\n",
    "mfilename = 'model.h5'\n",
    "dsfilename = 'mnist.pickle'\n",
    "\n",
    "    \n",
    "model.save(mfilename)\n",
    "with open(dsfilename, 'wb') as file:\n",
    "    pickle.dump(x, file)\n",
    "    "
   ]
  },
  {
   "cell_type": "markdown",
   "metadata": {},
   "source": [
    "# Invoke REST service endpoint\n",
    "\n",
    "Retrieve the REST endpoint (IP and Port) as reported when the REST server was started and invoke the *generate_fingerprint* service. \n",
    "\n",
    "The generate_fingeprint service accepts multipart/formdata requests with the following arguments. \n",
    "- **dataset(required)**: pickled file of numpy array dataset used during model training. Type=file\n",
    "- **model**: path to saved model that will be used to fingerprint. Type=File\n",
    "- **model_type**: type of model to fingerprint 'keras' or 'pytorch'. Type=string\n",
    "- **model_def**: required if model_type is pytorch, and should be path to the model definition file. Type=file\n",
    "- **partial_activations**: percentage of partial activations to retain when fingerprinting. Type=float"
   ]
  },
  {
   "cell_type": "code",
   "execution_count": null,
   "metadata": {},
   "outputs": [],
   "source": [
    "url = 'http://10.0.0.101:5000/generate_fingerprint' # your url may differ. change as neccessary\n",
    "\n",
    "data = {'model_type': 'keras', 'partial_activations': 0.2}\n",
    "\n",
    "multiple_files = [\n",
    "    ('dataset', ('mnist.pickle', open(dsfilename, 'rb'), 'file/pickle')),\n",
    "    ('model', ('mnist.h5', open(mfilename, 'rb'), 'file/h5'))]\n",
    "\n",
    "r = requests.post(url,  data=data, files=multiple_files)"
   ]
  },
  {
   "cell_type": "markdown",
   "metadata": {},
   "source": [
    "# Check response code and save zip file returned from server (generated fingerprint)\n",
    "\n",
    "The saved fingerprint could be used for outlier detection in determining if a given input is an outlier to the trained model."
   ]
  },
  {
   "cell_type": "code",
   "execution_count": null,
   "metadata": {},
   "outputs": [],
   "source": [
    "r"
   ]
  },
  {
   "cell_type": "code",
   "execution_count": null,
   "metadata": {},
   "outputs": [],
   "source": [
    "saved_fingerprint = 'keras_fingerprint.zip'\n",
    "with open(saved_fingerprint, 'wb') as fd:\n",
    "        for chunk in r.iter_content(chunk_size=128):\n",
    "            fd.write(chunk)\n"
   ]
  },
  {
   "cell_type": "markdown",
   "metadata": {},
   "source": [
    "# Utilize generated fingerprint for outlier detection\n",
    "\n",
    "After a fingerprint is successfully generated, this fingerprint can be used to determine if any given input belongs to a dataset of reasonable input to the model, or if it is an outlier to the dataset.\n",
    "\n",
    "We can use the **outlier_detection** service to make this determine on a provided dataset for a generated fingerprint."
   ]
  },
  {
   "cell_type": "markdown",
   "metadata": {},
   "source": [
    "# Import fashion mnist model to use as input for outlier detection. "
   ]
  },
  {
   "cell_type": "code",
   "execution_count": null,
   "metadata": {},
   "outputs": [],
   "source": [
    "from keras.datasets import mnist, fashion_mnist\n",
    "\n",
    "(fm_x, fm_y), _ = fashion_mnist.load_data()\n",
    "fm_x = fm_x.astype('float32').reshape(fm_x.shape[0], 28, 28, 1) / 255.\n",
    "fm_x = fm_x[:500]\n",
    "\n",
    "with open('fmnist.pickle', 'wb') as file:\n",
    "    pickle.dump(fm_x, file)"
   ]
  },
  {
   "cell_type": "markdown",
   "metadata": {},
   "source": [
    "# Invoke REST service endpoint\n",
    "\n",
    "Retrieve the REST endpoint (IP and Port) as reported when the REST server was started and invoke the outlier_detection service.\n",
    "\n",
    "The outlier_detection service accepts multipart/formdata requests with the following arguments.\n",
    "\n",
    "- **fingerprint(required)**: zipped directory containing fingerprint. Type=file\n",
    "- **num_layers(required)** : the number of layers in the model fingerprint. Type=int\n",
    "- **dataset(required)**: picked file of numpy array dataset to determine if outlier. Type=file\n",
    "- **model**: path to saved model that will be used to fingerprint. Type=file\n",
    "- **model_type**: type of model fingerprinted; 'keras' or 'pytorch'. Type=string\n",
    "- **model_def**: required if model_type is pytorch, and should be path to the model definition file. Type=file\n",
    "- **activation_mappings**: acknowledges whether activation mapping was used for fingerprint. Type=bool"
   ]
  },
  {
   "cell_type": "code",
   "execution_count": null,
   "metadata": {},
   "outputs": [],
   "source": [
    "num_layers = 8 \n",
    "activation_mapping = True\n",
    "\n",
    "url = 'http://10.0.0.101:8443/outlier_detection'\n",
    "\n",
    "payload = {'num_layers': num_layers, 'model_type': 'keras', 'activation_mapping': activation_mapping}\n",
    "\n",
    "multiple_files = [\n",
    "    ('dataset', ('fmnist.pickle', open('fmnist.pickle', 'rb'), 'file/pickle')),\n",
    "    ('model', ('mnist.h5', open('mnist.h5', 'rb'), 'file/h5')),\n",
    "    ('fingerprint', (saved_fingerprint, open(saved_fingerprint, 'rb'), 'file/zip'))]\n",
    "\n",
    "\n",
    "r = requests.post(url,  data=payload, files=multiple_files)"
   ]
  },
  {
   "cell_type": "markdown",
   "metadata": {},
   "source": [
    "# Retrive outlier score returned from server; should be < 10%"
   ]
  },
  {
   "cell_type": "code",
   "execution_count": null,
   "metadata": {},
   "outputs": [],
   "source": [
    "score = r.json()['score']\n",
    "print(score)"
   ]
  },
  {
   "cell_type": "code",
   "execution_count": null,
   "metadata": {},
   "outputs": [],
   "source": []
  }
 ],
 "metadata": {
  "kernelspec": {
   "display_name": "edge_ai_model_mgmt",
   "language": "python",
   "name": "edge_ai_model_mgmt"
  },
  "language_info": {
   "codemirror_mode": {
    "name": "ipython",
    "version": 3
   },
   "file_extension": ".py",
   "mimetype": "text/x-python",
   "name": "python",
   "nbconvert_exporter": "python",
   "pygments_lexer": "ipython3",
   "version": "3.8.8"
  }
 },
 "nbformat": 4,
 "nbformat_minor": 4
}
